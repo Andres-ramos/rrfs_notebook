{
 "cells": [
  {
   "cell_type": "code",
   "execution_count": 2,
   "metadata": {},
   "outputs": [],
   "source": [
    "import sys\n",
    "import os\n",
    "import pandas as pd"
   ]
  },
  {
   "cell_type": "code",
   "execution_count": 4,
   "metadata": {},
   "outputs": [
    {
     "data": {
      "text/plain": [
       "51"
      ]
     },
     "execution_count": 4,
     "metadata": {},
     "output_type": "execute_result"
    }
   ],
   "source": [
    "files = sorted(os.listdir(\"./csvs\"))\n",
    "len(files)"
   ]
  },
  {
   "cell_type": "code",
   "execution_count": 5,
   "metadata": {},
   "outputs": [
    {
     "name": "stdout",
     "output_type": "stream",
     "text": [
      "53\n"
     ]
    }
   ],
   "source": [
    "start_day = pd.Timestamp(2023,5,9)\n",
    "end_date = pd.Timestamp(2023,6,30)\n",
    "c = 0\n",
    "for date in pd.date_range(start=start_day, end=end_date, freq=\"D\"):\n",
    "    c +=1\n",
    "print(c)"
   ]
  },
  {
   "cell_type": "code",
   "execution_count": 6,
   "metadata": {},
   "outputs": [
    {
     "data": {
      "text/plain": [
       "['2023-05-09 00:00:00.csv',\n",
       " '2023-05-10 00:00:00.csv',\n",
       " '2023-05-11 00:00:00.csv',\n",
       " '2023-05-12 00:00:00.csv',\n",
       " '2023-05-13 00:00:00.csv',\n",
       " '2023-05-14 00:00:00.csv',\n",
       " '2023-05-15 00:00:00.csv',\n",
       " '2023-05-16 00:00:00.csv',\n",
       " '2023-05-17 00:00:00.csv',\n",
       " '2023-05-18 00:00:00.csv',\n",
       " '2023-05-19 00:00:00.csv',\n",
       " '2023-05-20 00:00:00.csv',\n",
       " '2023-05-21 00:00:00.csv',\n",
       " '2023-05-22 00:00:00.csv',\n",
       " '2023-05-23 00:00:00.csv',\n",
       " '2023-05-24 00:00:00.csv',\n",
       " '2023-05-25 00:00:00.csv',\n",
       " '2023-05-26 00:00:00.csv',\n",
       " '2023-05-27 00:00:00.csv',\n",
       " '2023-05-28 00:00:00.csv',\n",
       " '2023-05-29 00:00:00.csv',\n",
       " '2023-05-31 00:00:00.csv',\n",
       " '2023-06-01 00:00:00.csv',\n",
       " '2023-06-02 00:00:00.csv',\n",
       " '2023-06-03 00:00:00.csv',\n",
       " '2023-06-04 00:00:00.csv',\n",
       " '2023-06-05 00:00:00.csv',\n",
       " '2023-06-06 00:00:00.csv',\n",
       " '2023-06-07 00:00:00.csv',\n",
       " '2023-06-08 00:00:00.csv',\n",
       " '2023-06-09 00:00:00.csv',\n",
       " '2023-06-10 00:00:00.csv',\n",
       " '2023-06-11 00:00:00.csv',\n",
       " '2023-06-12 00:00:00.csv',\n",
       " '2023-06-13 00:00:00.csv',\n",
       " '2023-06-14 00:00:00.csv',\n",
       " '2023-06-15 00:00:00.csv',\n",
       " '2023-06-16 00:00:00.csv',\n",
       " '2023-06-17 00:00:00.csv',\n",
       " '2023-06-18 00:00:00.csv',\n",
       " '2023-06-19 00:00:00.csv',\n",
       " '2023-06-20 00:00:00.csv',\n",
       " '2023-06-22 00:00:00.csv',\n",
       " '2023-06-23 00:00:00.csv',\n",
       " '2023-06-24 00:00:00.csv',\n",
       " '2023-06-25 00:00:00.csv',\n",
       " '2023-06-26 00:00:00.csv',\n",
       " '2023-06-27 00:00:00.csv',\n",
       " '2023-06-28 00:00:00.csv',\n",
       " '2023-06-29 00:00:00.csv',\n",
       " '2023-06-30 00:00:00.csv']"
      ]
     },
     "execution_count": 6,
     "metadata": {},
     "output_type": "execute_result"
    }
   ],
   "source": [
    "files"
   ]
  },
  {
   "cell_type": "code",
   "execution_count": null,
   "metadata": {},
   "outputs": [],
   "source": [
    "df = pd.read_csv(f'./csvs/{files[0]}').rename(columns={\"Unnamed: 0\": \"variables\"})\n",
    "# df[\"date\"] = [\"2023-05-23\"]*6\n",
    "df"
   ]
  },
  {
   "cell_type": "code",
   "execution_count": 86,
   "metadata": {},
   "outputs": [],
   "source": [
    "dfs = []\n",
    "for i in range(len(files)):\n",
    "    file = files[i]\n",
    "    date = file.split(\" \")\n",
    "    df = pd.read_csv(f'./csvs/{file}').rename(columns={\"Unnamed: 0\": \"variables\"})\n",
    "    df[\"date\"] = [date]*6\n",
    "    dfs.append(df)\n"
   ]
  },
  {
   "cell_type": "code",
   "execution_count": 87,
   "metadata": {},
   "outputs": [],
   "source": [
    "a = pd.concat(dfs).groupby(\"variables\")"
   ]
  },
  {
   "cell_type": "code",
   "execution_count": 95,
   "metadata": {},
   "outputs": [
    {
     "name": "stdout",
     "output_type": "stream",
     "text": [
      "var gust\n",
      "    POD: 0.0608\n",
      "    FAR: 0.6885245901639344\n",
      "    CSI: 0.0535966149506347\n",
      "    bias: 0.1952\n",
      "\n",
      "var max_0_3_uh\n",
      "    POD: 0.0896\n",
      "    FAR: 0.7068062827225131\n",
      "    CSI: 0.07368421052631578\n",
      "    bias: 0.3056\n",
      "\n",
      "var max_2_5_uh\n",
      "    POD: 0.0784\n",
      "    FAR: 0.7151162790697675\n",
      "    CSI: 0.06550802139037433\n",
      "    bias: 0.2752\n",
      "\n",
      "var max_downdraft\n",
      "    POD: 0.024\n",
      "    FAR: 0.7169811320754716\n",
      "    CSI: 0.02262443438914027\n",
      "    bias: 0.0848\n",
      "\n",
      "var max_wind\n",
      "    POD: 0.0912\n",
      "    FAR: 0.7807692307692308\n",
      "    CSI: 0.06884057971014493\n",
      "    bias: 0.416\n",
      "\n",
      "var wind\n",
      "    POD: 0.1152\n",
      "    FAR: 0.8252427184466019\n",
      "    CSI: 0.07461139896373056\n",
      "    bias: 0.6592\n",
      "\n"
     ]
    }
   ],
   "source": [
    "import numpy as np\n",
    "def compute_statistics(hits, misses, false_alarms):\n",
    "        try :\n",
    "            POD = hits / (hits + misses)\n",
    "        except:\n",
    "            POD = np.nan\n",
    "        try :\n",
    "            FAR = false_alarms / (false_alarms + hits)\n",
    "        except :\n",
    "            FAR = np.nan\n",
    "        try :\n",
    "            bias = (hits + false_alarms)/ (hits + misses)\n",
    "        except: \n",
    "            bias = np.nan\n",
    "        try :\n",
    "            CSI = hits /(hits + false_alarms + misses)\n",
    "        except :\n",
    "            CSI = np.nan\n",
    "\n",
    "        return POD, FAR, bias, CSI\n",
    "    \n",
    "for i in a:\n",
    "    hits = i[1][\"hits\"].sum()\n",
    "    misses = i[1][\"misses\"].sum()\n",
    "    false_alarms = i[1][\"false_alarms\"].sum()\n",
    "    POD, FAR, bias, CSI = compute_statistics(hits, misses, false_alarms)\n",
    "    print(f\"var {i[0]}\")\n",
    "    print(f\"    POD: {POD}\")\n",
    "    print(f\"    FAR: {FAR}\")\n",
    "    print(f\"    CSI: {CSI}\")\n",
    "    print(f\"    bias: {bias}\\n\")"
   ]
  },
  {
   "cell_type": "code",
   "execution_count": null,
   "metadata": {},
   "outputs": [],
   "source": []
  }
 ],
 "metadata": {
  "kernelspec": {
   "display_name": "rrfs_env",
   "language": "python",
   "name": "rrfs_env"
  },
  "language_info": {
   "codemirror_mode": {
    "name": "ipython",
    "version": 3
   },
   "file_extension": ".py",
   "mimetype": "text/x-python",
   "name": "python",
   "nbconvert_exporter": "python",
   "pygments_lexer": "ipython3",
   "version": "3.9.16"
  }
 },
 "nbformat": 4,
 "nbformat_minor": 4
}
